{
 "cells": [
  {
   "cell_type": "code",
   "execution_count": 2,
   "metadata": {},
   "outputs": [],
   "source": [
    "import pandas as pd\n",
    "import numpy as np\n",
    "import matplotlib.pyplot as plt\n",
    "import seaborn as sns\n",
    "from sklearn.preprocessing import MinMaxScaler, StandardScaler\n",
    "from sklearn.model_selection import train_test_split\n",
    "import math\n",
    "from sklearn.metrics import accuracy_score, f1_score, precision_score, recall_score, confusion_matrix, classification_report, ConfusionMatrixDisplay\n",
    "from imblearn.over_sampling import SMOTE"
   ]
  },
  {
   "cell_type": "markdown",
   "metadata": {},
   "source": [
    "### Exploring the Dataset"
   ]
  },
  {
   "cell_type": "code",
   "execution_count": 3,
   "metadata": {},
   "outputs": [],
   "source": [
    "df = pd.read_csv('data.csv') # importing the data"
   ]
  },
  {
   "cell_type": "code",
   "execution_count": 4,
   "metadata": {},
   "outputs": [
    {
     "data": {
      "text/html": [
       "<div>\n",
       "<style scoped>\n",
       "    .dataframe tbody tr th:only-of-type {\n",
       "        vertical-align: middle;\n",
       "    }\n",
       "\n",
       "    .dataframe tbody tr th {\n",
       "        vertical-align: top;\n",
       "    }\n",
       "\n",
       "    .dataframe thead th {\n",
       "        text-align: right;\n",
       "    }\n",
       "</style>\n",
       "<table border=\"1\" class=\"dataframe\">\n",
       "  <thead>\n",
       "    <tr style=\"text-align: right;\">\n",
       "      <th></th>\n",
       "      <th>footfall</th>\n",
       "      <th>tempMode</th>\n",
       "      <th>AQ</th>\n",
       "      <th>USS</th>\n",
       "      <th>CS</th>\n",
       "      <th>VOC</th>\n",
       "      <th>RP</th>\n",
       "      <th>IP</th>\n",
       "      <th>Temperature</th>\n",
       "      <th>fail</th>\n",
       "    </tr>\n",
       "  </thead>\n",
       "  <tbody>\n",
       "    <tr>\n",
       "      <th>count</th>\n",
       "      <td>944.000000</td>\n",
       "      <td>944.000000</td>\n",
       "      <td>944.000000</td>\n",
       "      <td>944.000000</td>\n",
       "      <td>944.000000</td>\n",
       "      <td>944.000000</td>\n",
       "      <td>944.000000</td>\n",
       "      <td>944.000000</td>\n",
       "      <td>944.000000</td>\n",
       "      <td>944.000000</td>\n",
       "    </tr>\n",
       "    <tr>\n",
       "      <th>mean</th>\n",
       "      <td>306.381356</td>\n",
       "      <td>3.727754</td>\n",
       "      <td>4.325212</td>\n",
       "      <td>2.939619</td>\n",
       "      <td>5.394068</td>\n",
       "      <td>2.842161</td>\n",
       "      <td>47.043432</td>\n",
       "      <td>4.565678</td>\n",
       "      <td>16.331568</td>\n",
       "      <td>0.416314</td>\n",
       "    </tr>\n",
       "    <tr>\n",
       "      <th>std</th>\n",
       "      <td>1082.606745</td>\n",
       "      <td>2.677235</td>\n",
       "      <td>1.438436</td>\n",
       "      <td>1.383725</td>\n",
       "      <td>1.269349</td>\n",
       "      <td>2.273337</td>\n",
       "      <td>16.423130</td>\n",
       "      <td>1.599287</td>\n",
       "      <td>5.974781</td>\n",
       "      <td>0.493208</td>\n",
       "    </tr>\n",
       "    <tr>\n",
       "      <th>min</th>\n",
       "      <td>0.000000</td>\n",
       "      <td>0.000000</td>\n",
       "      <td>1.000000</td>\n",
       "      <td>1.000000</td>\n",
       "      <td>1.000000</td>\n",
       "      <td>0.000000</td>\n",
       "      <td>19.000000</td>\n",
       "      <td>1.000000</td>\n",
       "      <td>1.000000</td>\n",
       "      <td>0.000000</td>\n",
       "    </tr>\n",
       "    <tr>\n",
       "      <th>25%</th>\n",
       "      <td>1.000000</td>\n",
       "      <td>1.000000</td>\n",
       "      <td>3.000000</td>\n",
       "      <td>2.000000</td>\n",
       "      <td>5.000000</td>\n",
       "      <td>1.000000</td>\n",
       "      <td>34.000000</td>\n",
       "      <td>3.000000</td>\n",
       "      <td>14.000000</td>\n",
       "      <td>0.000000</td>\n",
       "    </tr>\n",
       "    <tr>\n",
       "      <th>50%</th>\n",
       "      <td>22.000000</td>\n",
       "      <td>3.000000</td>\n",
       "      <td>4.000000</td>\n",
       "      <td>3.000000</td>\n",
       "      <td>6.000000</td>\n",
       "      <td>2.000000</td>\n",
       "      <td>44.000000</td>\n",
       "      <td>4.000000</td>\n",
       "      <td>17.000000</td>\n",
       "      <td>0.000000</td>\n",
       "    </tr>\n",
       "    <tr>\n",
       "      <th>75%</th>\n",
       "      <td>110.000000</td>\n",
       "      <td>7.000000</td>\n",
       "      <td>6.000000</td>\n",
       "      <td>4.000000</td>\n",
       "      <td>6.000000</td>\n",
       "      <td>5.000000</td>\n",
       "      <td>58.000000</td>\n",
       "      <td>6.000000</td>\n",
       "      <td>21.000000</td>\n",
       "      <td>1.000000</td>\n",
       "    </tr>\n",
       "    <tr>\n",
       "      <th>max</th>\n",
       "      <td>7300.000000</td>\n",
       "      <td>7.000000</td>\n",
       "      <td>7.000000</td>\n",
       "      <td>7.000000</td>\n",
       "      <td>7.000000</td>\n",
       "      <td>6.000000</td>\n",
       "      <td>91.000000</td>\n",
       "      <td>7.000000</td>\n",
       "      <td>24.000000</td>\n",
       "      <td>1.000000</td>\n",
       "    </tr>\n",
       "  </tbody>\n",
       "</table>\n",
       "</div>"
      ],
      "text/plain": [
       "          footfall    tempMode          AQ         USS          CS  \\\n",
       "count   944.000000  944.000000  944.000000  944.000000  944.000000   \n",
       "mean    306.381356    3.727754    4.325212    2.939619    5.394068   \n",
       "std    1082.606745    2.677235    1.438436    1.383725    1.269349   \n",
       "min       0.000000    0.000000    1.000000    1.000000    1.000000   \n",
       "25%       1.000000    1.000000    3.000000    2.000000    5.000000   \n",
       "50%      22.000000    3.000000    4.000000    3.000000    6.000000   \n",
       "75%     110.000000    7.000000    6.000000    4.000000    6.000000   \n",
       "max    7300.000000    7.000000    7.000000    7.000000    7.000000   \n",
       "\n",
       "              VOC          RP          IP  Temperature        fail  \n",
       "count  944.000000  944.000000  944.000000   944.000000  944.000000  \n",
       "mean     2.842161   47.043432    4.565678    16.331568    0.416314  \n",
       "std      2.273337   16.423130    1.599287     5.974781    0.493208  \n",
       "min      0.000000   19.000000    1.000000     1.000000    0.000000  \n",
       "25%      1.000000   34.000000    3.000000    14.000000    0.000000  \n",
       "50%      2.000000   44.000000    4.000000    17.000000    0.000000  \n",
       "75%      5.000000   58.000000    6.000000    21.000000    1.000000  \n",
       "max      6.000000   91.000000    7.000000    24.000000    1.000000  "
      ]
     },
     "execution_count": 4,
     "metadata": {},
     "output_type": "execute_result"
    }
   ],
   "source": [
    "df.describe() # getting the summary of the data"
   ]
  },
  {
   "cell_type": "code",
   "execution_count": 5,
   "metadata": {},
   "outputs": [
    {
     "name": "stdout",
     "output_type": "stream",
     "text": [
      "<class 'pandas.core.frame.DataFrame'>\n",
      "RangeIndex: 944 entries, 0 to 943\n",
      "Data columns (total 10 columns):\n",
      " #   Column       Non-Null Count  Dtype\n",
      "---  ------       --------------  -----\n",
      " 0   footfall     944 non-null    int64\n",
      " 1   tempMode     944 non-null    int64\n",
      " 2   AQ           944 non-null    int64\n",
      " 3   USS          944 non-null    int64\n",
      " 4   CS           944 non-null    int64\n",
      " 5   VOC          944 non-null    int64\n",
      " 6   RP           944 non-null    int64\n",
      " 7   IP           944 non-null    int64\n",
      " 8   Temperature  944 non-null    int64\n",
      " 9   fail         944 non-null    int64\n",
      "dtypes: int64(10)\n",
      "memory usage: 73.9 KB\n"
     ]
    }
   ],
   "source": [
    "df.info() # getting the information of the data regarding the data types of features, number of non-null values, etc"
   ]
  },
  {
   "cell_type": "code",
   "execution_count": 6,
   "metadata": {},
   "outputs": [
    {
     "data": {
      "text/plain": [
       "1"
      ]
     },
     "execution_count": 6,
     "metadata": {},
     "output_type": "execute_result"
    }
   ],
   "source": [
    "df.duplicated().sum() # checking for the number of duplicate rows in the data"
   ]
  },
  {
   "cell_type": "code",
   "execution_count": 7,
   "metadata": {},
   "outputs": [
    {
     "data": {
      "text/html": [
       "<div>\n",
       "<style scoped>\n",
       "    .dataframe tbody tr th:only-of-type {\n",
       "        vertical-align: middle;\n",
       "    }\n",
       "\n",
       "    .dataframe tbody tr th {\n",
       "        vertical-align: top;\n",
       "    }\n",
       "\n",
       "    .dataframe thead th {\n",
       "        text-align: right;\n",
       "    }\n",
       "</style>\n",
       "<table border=\"1\" class=\"dataframe\">\n",
       "  <thead>\n",
       "    <tr style=\"text-align: right;\">\n",
       "      <th></th>\n",
       "      <th>footfall</th>\n",
       "      <th>tempMode</th>\n",
       "      <th>AQ</th>\n",
       "      <th>USS</th>\n",
       "      <th>CS</th>\n",
       "      <th>VOC</th>\n",
       "      <th>RP</th>\n",
       "      <th>IP</th>\n",
       "      <th>Temperature</th>\n",
       "      <th>fail</th>\n",
       "    </tr>\n",
       "  </thead>\n",
       "  <tbody>\n",
       "    <tr>\n",
       "      <th>0</th>\n",
       "      <td>0</td>\n",
       "      <td>7</td>\n",
       "      <td>7</td>\n",
       "      <td>1</td>\n",
       "      <td>6</td>\n",
       "      <td>6</td>\n",
       "      <td>36</td>\n",
       "      <td>3</td>\n",
       "      <td>1</td>\n",
       "      <td>1</td>\n",
       "    </tr>\n",
       "    <tr>\n",
       "      <th>1</th>\n",
       "      <td>190</td>\n",
       "      <td>1</td>\n",
       "      <td>3</td>\n",
       "      <td>3</td>\n",
       "      <td>5</td>\n",
       "      <td>1</td>\n",
       "      <td>20</td>\n",
       "      <td>4</td>\n",
       "      <td>1</td>\n",
       "      <td>0</td>\n",
       "    </tr>\n",
       "    <tr>\n",
       "      <th>2</th>\n",
       "      <td>31</td>\n",
       "      <td>7</td>\n",
       "      <td>2</td>\n",
       "      <td>2</td>\n",
       "      <td>6</td>\n",
       "      <td>1</td>\n",
       "      <td>24</td>\n",
       "      <td>6</td>\n",
       "      <td>1</td>\n",
       "      <td>0</td>\n",
       "    </tr>\n",
       "    <tr>\n",
       "      <th>3</th>\n",
       "      <td>83</td>\n",
       "      <td>4</td>\n",
       "      <td>3</td>\n",
       "      <td>4</td>\n",
       "      <td>5</td>\n",
       "      <td>1</td>\n",
       "      <td>28</td>\n",
       "      <td>6</td>\n",
       "      <td>1</td>\n",
       "      <td>0</td>\n",
       "    </tr>\n",
       "    <tr>\n",
       "      <th>4</th>\n",
       "      <td>640</td>\n",
       "      <td>7</td>\n",
       "      <td>5</td>\n",
       "      <td>6</td>\n",
       "      <td>4</td>\n",
       "      <td>0</td>\n",
       "      <td>68</td>\n",
       "      <td>6</td>\n",
       "      <td>1</td>\n",
       "      <td>0</td>\n",
       "    </tr>\n",
       "  </tbody>\n",
       "</table>\n",
       "</div>"
      ],
      "text/plain": [
       "   footfall  tempMode  AQ  USS  CS  VOC  RP  IP  Temperature  fail\n",
       "0         0         7   7    1   6    6  36   3            1     1\n",
       "1       190         1   3    3   5    1  20   4            1     0\n",
       "2        31         7   2    2   6    1  24   6            1     0\n",
       "3        83         4   3    4   5    1  28   6            1     0\n",
       "4       640         7   5    6   4    0  68   6            1     0"
      ]
     },
     "execution_count": 7,
     "metadata": {},
     "output_type": "execute_result"
    }
   ],
   "source": [
    "df.head() # getting the first 5 rows of the data"
   ]
  },
  {
   "cell_type": "markdown",
   "metadata": {},
   "source": [
    "My initial impressions of the dataset:\n",
    "\n",
    "* There are 944 total rows, with 1 duplicated row.\n",
    "* All data is in numeric form, so there isn't much data pre-processing needed.\n",
    "* There are no missing values."
   ]
  },
  {
   "cell_type": "code",
   "execution_count": 8,
   "metadata": {},
   "outputs": [],
   "source": [
    "df.drop_duplicates(inplace=True) # dropping the duplicate rows"
   ]
  },
  {
   "cell_type": "markdown",
   "metadata": {},
   "source": [
    "### Checking Skewness of Dataset"
   ]
  },
  {
   "cell_type": "markdown",
   "metadata": {},
   "source": [
    "Checking if the dataset is imbalanced and skewed in any way"
   ]
  },
  {
   "cell_type": "code",
   "execution_count": 9,
   "metadata": {},
   "outputs": [
    {
     "data": {
      "image/png": "[encoded data removed]",
      "text/plain": [
       "<Figure size 640x480 with 1 Axes>"
      ]
     },
     "metadata": {},
     "output_type": "display_data"
    }
   ],
   "source": [
    "color = ['#92B6B1', '#43C59E'] # defining the colors for the plots\n",
    "sns.set_style('darkgrid') # setting the style for the plot\n",
    "df['fail'].value_counts().plot.bar(color=color) # plotting the bar plot for the target variable\n",
    "plt.xlabel('Fail') # setting the x-axis label\n",
    "plt.ylabel('Total') # setting the y-axis label\n",
    "plt.show()"
   ]
  },
  {
   "cell_type": "markdown",
   "metadata": {},
   "source": [
    "It looks like the data is skewed, as the count of positive examples are lower than the negative examples. I will use SMOTE, an over sampling technique to increase the count of positive examples to make the distribution a little better."
   ]
  },
  {
   "cell_type": "markdown",
   "metadata": {},
   "source": [
    "### Over sampling to decrease Skewness"
   ]
  },
  {
   "cell_type": "code",
   "execution_count": 11,
   "metadata": {},
   "outputs": [],
   "source": [
    "over_sampler = SMOTE(random_state=42) # initializing the SMOTE object\n",
    "X = df.drop(['fail'], axis=1) # seperating the features from the target feature\n",
    "y = df['fail'] # isolating the target feature\n",
    "X, y = over_sampler.fit_resample(X, y) # resampling the dataset"
   ]
  },
  {
   "cell_type": "code",
   "execution_count": 12,
   "metadata": {},
   "outputs": [
    {
     "data": {
      "text/plain": [
       "<Axes: xlabel='fail'>"
      ]
     },
     "execution_count": 12,
     "metadata": {},
     "output_type": "execute_result"
    },
    {
     "data": {
      "image/png": "[encoded data removed]",
      "text/plain": [
       "<Figure size 640x480 with 1 Axes>"
      ]
     },
     "metadata": {},
     "output_type": "display_data"
    }
   ],
   "source": [
    "y.value_counts().plot.bar(color=color) # plotting the bar plot for the target variable after resampling"
   ]
  },
  {
   "cell_type": "markdown",
   "metadata": {},
   "source": [
    "As you can see, the count of positive and negative examples is much better. Now I will scale the dataset and then train a model."
   ]
  },
  {
   "cell_type": "markdown",
   "metadata": {},
   "source": [
    "### Feature Scaling"
   ]
  },
  {
   "cell_type": "markdown",
   "metadata": {},
   "source": [
    "I will use a min-max scaler, it will scale the values of features to a value between the range 0 and 1."
   ]
  },
  {
   "cell_type": "code",
   "execution_count": 13,
   "metadata": {},
   "outputs": [],
   "source": [
    "scaler = MinMaxScaler() # Initializing the MinMaxScaler\n",
    "X_scaled = scaler.fit_transform(X) # scaling the data"
   ]
  },
  {
   "cell_type": "markdown",
   "metadata": {},
   "source": [
    "### Data Splitting"
   ]
  },
  {
   "cell_type": "markdown",
   "metadata": {},
   "source": [
    "Next, we will split the data into Test and Train sets. This is an important step. You want a way to evaluate the model, and splitting the data into Train and Test sets gives you that option. Usually, you also would want to split the Test set further into Cross-validation and Test sets, and use the Cross-validation set for hyperparameter tuning. I used that approach to tune the hyperparameters, and now that I have finalized the values for hyperparameters, I will skip splitting the data further into cross-validation set and test set, and just directly split the data into Training and Test sets. I will do a 70:30 split on the dataset."
   ]
  },
  {
   "cell_type": "code",
   "execution_count": 14,
   "metadata": {},
   "outputs": [],
   "source": [
    "X_train, X_test, y_train, y_test = train_test_split(X_scaled, y, test_size=0.3, random_state=42) # splitting the data into training and testing sets"
   ]
  },
  {
   "cell_type": "markdown",
   "metadata": {},
   "source": [
    "### Model Training"
   ]
  },
  {
   "cell_type": "markdown",
   "metadata": {},
   "source": [
    "I will be training a regularized logistic regression model. I will implement everything from scratch, using just numpy and maths. The functions for gradient descent and others are defined below."
   ]
  },
  {
   "cell_type": "code",
   "execution_count": 27,
   "metadata": {},
   "outputs": [],
   "source": [
    "def compute_cost(w, b, X, y, lambda_reg):\n",
    "    '''\n",
    "    Compute the cost function for logistic regression\n",
    "    \n",
    "    Parameters:\n",
    "        w (numpy array): weight parameters of the model\n",
    "        b (float): bias parameter of the model\n",
    "        X (numpy array): features of the dataset excluding the target feature\n",
    "        y (numpy array): target feature of the dataset\n",
    "        lambda_reg (int): regularization parameter\n",
    "    \n",
    "    Returns:\n",
    "        cost (float): the cost of the model with respect to the current weights and bias\n",
    "    '''\n",
    "    m = X.shape[0] # getting the number of examples in the dataset\n",
    "    z = np.dot(X, w) + b # computing the linear combination of the weights and features\n",
    "    f_wb = 1/(np.exp(-z) + 1) # applying the sigmoid function to the linear combination\n",
    "    cost = (-1/m) * np.sum(y * np.log(f_wb) + (1-y) * np.log(1-f_wb)) + (lambda_reg/(2*m) * np.sum(w**2)) # computing the cost function\n",
    "    return cost\n",
    "\n",
    "\n",
    "def gradient_descent(w, b, X, y, lambda_reg):\n",
    "    '''\n",
    "    Compute the derivatives of the cost function with respect to the weights and bias.\n",
    "    \n",
    "    Parameters:\n",
    "        w (numpy array): weight parameters of the model\n",
    "        b (float): bias parameter of the model\n",
    "        X (numpy array): features of the dataset excluding the target feature\n",
    "        y (numpy array): target feature of the dataset\n",
    "        lambda_reg (int): regularization parameter\n",
    "    \n",
    "    Returns:\n",
    "        dj_dw (numpy array): the value of the derivative of the cost function with respect to the weights\n",
    "        dj_db (float): the value of the derivative of the cost function with respect to the bias\n",
    "    '''\n",
    "    m, n = X.shape # getting the number of examples and features in the dataset\n",
    "    z = np.dot(X, w) + b # computing the linear combination of the weights and features\n",
    "    f_wb = 1/(np.exp(-z) + 1) # applying the sigmoid function to the linear combination\n",
    "    err = f_wb - y  # computing the error term\n",
    "    dj_dw = (1/m) * np.dot(X.T, err) + (lambda_reg/m) * w # computing the derivative of the cost function with respect to the weights, and adding the regularization term\n",
    "    dj_db = (1/m) * np.sum(err) # computing the derivative of the cost function with respect to the bias. Since I am only regularizing the weights, I will skip adding the regularization term to the bias. Although, that is an option that you can implement\n",
    "    return dj_dw, dj_db\n",
    "\n",
    "\n",
    "def compute_GD(w, b, X, y, epochs, alpha, lambda_reg, stopping_criteria=0.00001):\n",
    "    '''\n",
    "    Apply gradient descent to find the optimal weights and bias for the logistic regression model.\n",
    "    \n",
    "    Parameters:\n",
    "        w (numpy array): weight parameters of the model\n",
    "        b (float): bias parameter of the model\n",
    "        X (numpy array): features of the dataset excluding the target feature\n",
    "        y (numpy array): target feature of the dataset\n",
    "        epochs (int): number of iterations to run the gradient descent algorithm\n",
    "        alpha (float): learning rate\n",
    "        lambda_reg (int): regularization parameter\n",
    "        stopping_criteria (float): the difference between the cost of the current iteration and the previous iteration to stop the algorithm\n",
    "    \n",
    "    Returns:\n",
    "        w (numpy array): the optimal weight parameters of the model\n",
    "        b (float): the optimal bias parameter of the model\n",
    "        JD_history (list): the cost of the model at each iteration for visualization purposes\n",
    "    '''\n",
    "    JD_history = [] # initializing the list to store the cost of the model at each iteration, for visualization purposes\n",
    "    \n",
    "    for i in range(epochs): # looping through the number of iterations\n",
    "        dj_dw, dj_db = gradient_descent(w, b, X, y, lambda_reg) # computing the derivatives of the cost function with respect to the weights and bias\n",
    "        w = w - alpha * dj_dw # updating the weights\n",
    "        b = b - alpha * dj_db # updating the bias\n",
    "        \n",
    "        if i<100000: # storing the cost of the model at each iteration\n",
    "            JD_history.append(compute_cost(w, b, X, y, lambda_reg)) # computing the cost of the model at each iteration\n",
    "        \n",
    "        if i% math.ceil(epochs/100) == 0: # printing the cost of the model at every 100th iterations\n",
    "            print(\"Epoch:{:4}, Loss:{:4.2f}\".format(i, JD_history[-1])) # printing the cost and iteration number\n",
    "        \n",
    "        if i>1 and abs(JD_history[-1] - JD_history[-2]) < stopping_criteria: # checking if the difference between the cost of the current iteration and the previous iteration is less than the stopping criteria\n",
    "            break\n",
    "    \n",
    "    return w, b, JD_history"
   ]
  },
  {
   "cell_type": "code",
   "execution_count": 28,
   "metadata": {},
   "outputs": [
    {
     "name": "stdout",
     "output_type": "stream",
     "text": [
      "Epoch:   0, Loss:0.69\n",
      "Epoch: 100, Loss:0.66\n",
      "Epoch: 200, Loss:0.64\n",
      "Epoch: 300, Loss:0.62\n",
      "Epoch: 400, Loss:0.60\n",
      "Epoch: 500, Loss:0.58\n",
      "Epoch: 600, Loss:0.56\n",
      "Epoch: 700, Loss:0.55\n",
      "Epoch: 800, Loss:0.53\n",
      "Epoch: 900, Loss:0.52\n",
      "Epoch:1000, Loss:0.51\n",
      "Epoch:1100, Loss:0.50\n",
      "Epoch:1200, Loss:0.49\n",
      "Epoch:1300, Loss:0.47\n",
      "Epoch:1400, Loss:0.47\n",
      "Epoch:1500, Loss:0.46\n",
      "Epoch:1600, Loss:0.45\n",
      "Epoch:1700, Loss:0.44\n",
      "Epoch:1800, Loss:0.43\n",
      "Epoch:1900, Loss:0.43\n",
      "Epoch:2000, Loss:0.42\n",
      "Epoch:2100, Loss:0.41\n",
      "Epoch:2200, Loss:0.41\n",
      "Epoch:2300, Loss:0.40\n",
      "Epoch:2400, Loss:0.40\n",
      "Epoch:2500, Loss:0.39\n",
      "Epoch:2600, Loss:0.39\n",
      "Epoch:2700, Loss:0.38\n",
      "Epoch:2800, Loss:0.38\n",
      "Epoch:2900, Loss:0.38\n",
      "Epoch:3000, Loss:0.37\n",
      "Epoch:3100, Loss:0.37\n",
      "Epoch:3200, Loss:0.37\n",
      "Epoch:3300, Loss:0.36\n",
      "Epoch:3400, Loss:0.36\n",
      "Epoch:3500, Loss:0.36\n",
      "Epoch:3600, Loss:0.35\n",
      "Epoch:3700, Loss:0.35\n",
      "Epoch:3800, Loss:0.35\n",
      "Epoch:3900, Loss:0.35\n",
      "Epoch:4000, Loss:0.34\n",
      "Epoch:4100, Loss:0.34\n",
      "Epoch:4200, Loss:0.34\n",
      "Epoch:4300, Loss:0.34\n",
      "Epoch:4400, Loss:0.34\n",
      "Epoch:4500, Loss:0.33\n",
      "Epoch:4600, Loss:0.33\n",
      "Epoch:4700, Loss:0.33\n",
      "Epoch:4800, Loss:0.33\n",
      "Epoch:4900, Loss:0.33\n",
      "Epoch:5000, Loss:0.33\n",
      "Epoch:5100, Loss:0.32\n",
      "Epoch:5200, Loss:0.32\n",
      "Epoch:5300, Loss:0.32\n",
      "Epoch:5400, Loss:0.32\n",
      "Epoch:5500, Loss:0.32\n",
      "Epoch:5600, Loss:0.32\n",
      "Epoch:5700, Loss:0.32\n",
      "Epoch:5800, Loss:0.31\n",
      "Epoch:5900, Loss:0.31\n",
      "Epoch:6000, Loss:0.31\n",
      "Epoch:6100, Loss:0.31\n",
      "Epoch:6200, Loss:0.31\n"
     ]
    }
   ],
   "source": [
    "# Defining the hyperparameters\n",
    "\n",
    "epochs = 10000 # number of iterations\n",
    "alpha = 0.01 # learning rate\n",
    "lambda_reg = 1 # regularization parameter\n",
    "\n",
    "w = np.zeros(X_train.shape[1]) # initializing the weights\n",
    "b = 0 # initializing the bias\n",
    "\n",
    "w, b, JD_history = compute_GD(w, b, X_train, y_train, epochs, alpha, lambda_reg) # training the model"
   ]
  },
  {
   "cell_type": "code",
   "execution_count": 25,
   "metadata": {},
   "outputs": [
    {
     "data": {
      "text/plain": [
       "[<matplotlib.lines.Line2D at 0x26da91ddc70>]"
      ]
     },
     "execution_count": 25,
     "metadata": {},
     "output_type": "execute_result"
    },
    {
     "data": {
      "image/png": "[encoded data removed]",
      "text/plain": [
       "<Figure size 640x480 with 1 Axes>"
      ]
     },
     "metadata": {},
     "output_type": "display_data"
    }
   ],
   "source": [
    "plt.plot(JD_history) # plotting the cost of the model at each iteration"
   ]
  },
  {
   "cell_type": "markdown",
   "metadata": {},
   "source": [
    "The loss seems to be decreasing at a decent pace, there are no signs that we are shooting over the global optimum (as the loss is constantly decreasing), which would have meant our learning rate is too high."
   ]
  },
  {
   "cell_type": "markdown",
   "metadata": {},
   "source": [
    "### Evaluating Model"
   ]
  },
  {
   "cell_type": "markdown",
   "metadata": {},
   "source": [
    "I will be evaluating the model using classical classification metrics like accuracy, precision, recall, etc. I will also generate a classification report and a confusion matrix so that we know the performance of the model for each class as well. I am setting the threshold of the model to 0.5. We are using a threshold because when we apply the sigmoid function to the output to the linear combination of weights and bias, it generates a value between 0 and 1, which basically a probability of the example being 1. By applying a threshold, we are setting the criteria for the probability that an example should have to be labelled as a positive example. If the probability of an example is 0.5 or above, it is labelled as 1. Anything otherwise is labelled 0."
   ]
  },
  {
   "cell_type": "code",
   "execution_count": 30,
   "metadata": {},
   "outputs": [],
   "source": [
    "y_test_pred = [] # initializing the list to store the predictions of the model\n",
    "threshold = 0.5 # setting the threshold for the model\n",
    "m = X_test.shape[0] # getting the number of examples in the test set\n",
    "for i in range(m):\n",
    "    z = np.dot(X_test[i], w) + b # computing the linear combination of the weights and features\n",
    "    f_wb = 1/(np.exp(-z) + 1) # applying the sigmoid function to the linear combination\n",
    "    y_test_pred.append(1 if f_wb >= threshold else 0) # making the prediction based on the threshold"
   ]
  },
  {
   "cell_type": "markdown",
   "metadata": {},
   "source": [
    "#### Confusion Matrix"
   ]
  },
  {
   "cell_type": "code",
   "execution_count": 32,
   "metadata": {},
   "outputs": [
    {
     "data": {
      "text/plain": [
       "<sklearn.metrics._plot.confusion_matrix.ConfusionMatrixDisplay at 0x26dab4ae300>"
      ]
     },
     "execution_count": 32,
     "metadata": {},
     "output_type": "execute_result"
    },
    {
     "data": {
      "image/png": "[encoded data removed]",
      "text/plain": [
       "<Figure size 640x480 with 2 Axes>"
      ]
     },
     "metadata": {},
     "output_type": "display_data"
    }
   ],
   "source": [
    "conf_matrix = confusion_matrix(y_test, y_test_pred) # computing the confusion matrix\n",
    "disp = ConfusionMatrixDisplay(confusion_matrix=conf_matrix, display_labels=['Working', 'Fail']) # initializing the confusion matrix display\n",
    "disp.plot() # plotting the confusion matrix"
   ]
  },
  {
   "cell_type": "markdown",
   "metadata": {},
   "source": [
    "#### Classification Report"
   ]
  },
  {
   "cell_type": "code",
   "execution_count": 33,
   "metadata": {},
   "outputs": [
    {
     "name": "stdout",
     "output_type": "stream",
     "text": [
      "Classification Report: \n",
      "               precision    recall  f1-score   support\n",
      "\n",
      "           0       0.92      0.92      0.92       166\n",
      "           1       0.92      0.92      0.92       164\n",
      "\n",
      "    accuracy                           0.92       330\n",
      "   macro avg       0.92      0.92      0.92       330\n",
      "weighted avg       0.92      0.92      0.92       330\n",
      "\n"
     ]
    }
   ],
   "source": [
    "class_report = classification_report(y_test, y_test_pred) # computing the classification report\n",
    "print(\"Classification Report: \\n\", class_report) # printing the classification report"
   ]
  },
  {
   "cell_type": "code",
   "execution_count": 34,
   "metadata": {},
   "outputs": [],
   "source": [
    "y_test_pred = np.array(y_test_pred) # converting the predictions to a numpy array\n",
    "accuracy = accuracy_score(y_test, y_test_pred) # computing the accuracy of the model\n",
    "precision = precision_score(y_test, y_test_pred) # computing the precision of the model\n",
    "recall = recall_score(y_test, y_test_pred) # computing the recall of the model\n",
    "f1 = f1_score(y_test, y_test_pred) # computing the f1 score of the model"
   ]
  },
  {
   "cell_type": "code",
   "execution_count": 35,
   "metadata": {},
   "outputs": [
    {
     "data": {
      "image/png": "[encoded data removed]",
      "text/plain": [
       "<Figure size 1000x600 with 1 Axes>"
      ]
     },
     "metadata": {},
     "output_type": "display_data"
    }
   ],
   "source": [
    "scores = {'Accuracy': accuracy, 'Precision': precision, 'Recall': recall, 'F1 Score': f1} # storing the scores in a dictionary\n",
    "\n",
    "color = ['#92B6B1', '#43C59E', '#2F4858', '#33658A'] # defining the colors for the plot\n",
    "sns.set_style('darkgrid') # setting the style for the plot\n",
    "plt.figure(figsize=(10, 6)) # setting the figure size\n",
    "plt.bar(scores.keys(), scores.values(), color=color) # plotting the bar plot for the scores\n",
    "plt.ylabel('Score') # setting the y-axis label\n",
    "plt.ylim(0, 1)  # setting the range of values to be shown on the y-axis, which is between 0 and 1\n",
    "plt.title('Evaluation Scores') # setting the title of the plot\n",
    "plt.show() # displaying the plot"
   ]
  }
 ],
 "metadata": {
  "kernelspec": {
   "display_name": "NLP_mentorship",
   "language": "python",
   "name": "python3"
  },
  "language_info": {
   "codemirror_mode": {
    "name": "ipython",
    "version": 3
   },
   "file_extension": ".py",
   "mimetype": "text/x-python",
   "name": "python",
   "nbconvert_exporter": "python",
   "pygments_lexer": "ipython3",
   "version": "3.12.2"
  }
 },
 "nbformat": 4,
 "nbformat_minor": 2
}
